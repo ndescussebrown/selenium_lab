{
 "cells": [
  {
   "cell_type": "code",
   "execution_count": 1,
   "id": "c405354b",
   "metadata": {},
   "outputs": [
    {
     "name": "stdout",
     "output_type": "stream",
     "text": [
      "Requirement already satisfied: selenium in c:\\users\\natha\\anaconda3\\lib\\site-packages (4.1.0)\n",
      "Requirement already satisfied: trio~=0.17 in c:\\users\\natha\\anaconda3\\lib\\site-packages (from selenium) (0.19.0)\n",
      "Requirement already satisfied: trio-websocket~=0.9 in c:\\users\\natha\\anaconda3\\lib\\site-packages (from selenium) (0.9.2)\n",
      "Requirement already satisfied: urllib3[secure]~=1.26 in c:\\users\\natha\\anaconda3\\lib\\site-packages (from selenium) (1.26.6)\n",
      "Requirement already satisfied: async-generator>=1.9 in c:\\users\\natha\\anaconda3\\lib\\site-packages (from trio~=0.17->selenium) (1.10)\n",
      "Requirement already satisfied: sniffio in c:\\users\\natha\\anaconda3\\lib\\site-packages (from trio~=0.17->selenium) (1.2.0)\n",
      "Requirement already satisfied: cffi>=1.14 in c:\\users\\natha\\anaconda3\\lib\\site-packages (from trio~=0.17->selenium) (1.14.6)\n",
      "Requirement already satisfied: idna in c:\\users\\natha\\anaconda3\\lib\\site-packages (from trio~=0.17->selenium) (3.2)\n",
      "Requirement already satisfied: sortedcontainers in c:\\users\\natha\\anaconda3\\lib\\site-packages (from trio~=0.17->selenium) (2.4.0)\n",
      "Requirement already satisfied: outcome in c:\\users\\natha\\anaconda3\\lib\\site-packages (from trio~=0.17->selenium) (1.1.0)\n",
      "Requirement already satisfied: attrs>=19.2.0 in c:\\users\\natha\\anaconda3\\lib\\site-packages (from trio~=0.17->selenium) (21.2.0)\n",
      "Requirement already satisfied: pycparser in c:\\users\\natha\\anaconda3\\lib\\site-packages (from cffi>=1.14->trio~=0.17->selenium) (2.20)\n",
      "Requirement already satisfied: wsproto>=0.14 in c:\\users\\natha\\anaconda3\\lib\\site-packages (from trio-websocket~=0.9->selenium) (1.0.0)\n",
      "Requirement already satisfied: cryptography>=1.3.4 in c:\\users\\natha\\anaconda3\\lib\\site-packages (from urllib3[secure]~=1.26->selenium) (3.4.7)\n",
      "Requirement already satisfied: pyOpenSSL>=0.14 in c:\\users\\natha\\anaconda3\\lib\\site-packages (from urllib3[secure]~=1.26->selenium) (20.0.1)\n",
      "Requirement already satisfied: certifi in c:\\users\\natha\\anaconda3\\lib\\site-packages (from urllib3[secure]~=1.26->selenium) (2021.5.30)\n",
      "Requirement already satisfied: six>=1.5.2 in c:\\users\\natha\\anaconda3\\lib\\site-packages (from pyOpenSSL>=0.14->urllib3[secure]~=1.26->selenium) (1.16.0)\n",
      "Requirement already satisfied: h11<1,>=0.9.0 in c:\\users\\natha\\anaconda3\\lib\\site-packages (from wsproto>=0.14->trio-websocket~=0.9->selenium) (0.12.0)\n"
     ]
    }
   ],
   "source": [
    "#First we install selenium\n",
    "!pip install selenium"
   ]
  },
  {
   "cell_type": "code",
   "execution_count": 2,
   "id": "dae708fd",
   "metadata": {},
   "outputs": [],
   "source": [
    "import selenium"
   ]
  },
  {
   "cell_type": "code",
   "execution_count": 3,
   "id": "b3a109cc",
   "metadata": {},
   "outputs": [],
   "source": [
    "from selenium import webdriver"
   ]
  },
  {
   "cell_type": "code",
   "execution_count": 4,
   "id": "e5c4b05f",
   "metadata": {},
   "outputs": [
    {
     "name": "stderr",
     "output_type": "stream",
     "text": [
      "C:\\Users\\natha\\Anaconda3\\lib\\site-packages\\ipykernel_launcher.py:2: DeprecationWarning: executable_path has been deprecated, please pass in a Service object\n",
      "  \n"
     ]
    }
   ],
   "source": [
    "#Specify path to chrome driver. \n",
    "#We can check the command worked by checking it opens a new window\n",
    "driver = webdriver.Chrome('C:/Users/natha/DSTI/Python Labs/chromedriver.exe') "
   ]
  },
  {
   "cell_type": "code",
   "execution_count": 5,
   "id": "de1e7f5d",
   "metadata": {},
   "outputs": [],
   "source": [
    "#The below command will show the website called in a new page\n",
    "driver.get(\"http://www.python.org\")"
   ]
  },
  {
   "cell_type": "code",
   "execution_count": 6,
   "id": "a33e7c21",
   "metadata": {},
   "outputs": [],
   "source": [
    "#The below command checks that 'Python' is in the driver's title. We can use 'assert' to check other things \n",
    "#(for example checking whether a variable is an integer etc)\n",
    "assert \"Python\" in driver.title"
   ]
  },
  {
   "cell_type": "code",
   "execution_count": 7,
   "id": "0c0bc963",
   "metadata": {},
   "outputs": [
    {
     "name": "stdout",
     "output_type": "stream",
     "text": [
      "Welcome to Python.org\n"
     ]
    }
   ],
   "source": [
    "#We can check the title of the page. Beware it is different from the url of the page!\n",
    "print(driver.title)"
   ]
  },
  {
   "cell_type": "code",
   "execution_count": 8,
   "id": "ebea5b1c",
   "metadata": {},
   "outputs": [
    {
     "name": "stderr",
     "output_type": "stream",
     "text": [
      "C:\\Users\\natha\\Anaconda3\\lib\\site-packages\\ipykernel_launcher.py:1: DeprecationWarning: find_element_by_* commands are deprecated. Please use find_element() instead\n",
      "  \"\"\"Entry point for launching an IPython kernel.\n"
     ]
    }
   ],
   "source": [
    "elem = driver.find_element_by_name(\"q\")"
   ]
  },
  {
   "cell_type": "code",
   "execution_count": 9,
   "id": "aa94c267",
   "metadata": {},
   "outputs": [
    {
     "data": {
      "text/plain": [
       "<selenium.webdriver.remote.webelement.WebElement (session=\"c0bf90db5312b83ba577a0c1356fd57b\", element=\"82ae97a5-b3a6-449c-8326-e727569d5f80\")>"
      ]
     },
     "execution_count": 9,
     "metadata": {},
     "output_type": "execute_result"
    }
   ],
   "source": [
    "elem"
   ]
  },
  {
   "cell_type": "code",
   "execution_count": 10,
   "id": "ba3ae64b",
   "metadata": {},
   "outputs": [],
   "source": [
    "#We look for a specific job within the apec page and search for specific key words\n",
    "keywords=['data','engineer']\n",
    "str_keywords = '%20'.join(keywords)"
   ]
  },
  {
   "cell_type": "code",
   "execution_count": 11,
   "id": "823b7745",
   "metadata": {},
   "outputs": [],
   "source": [
    "url_apec_base='https://www.apec.fr/candidat/recherche-emploi.html/emploi?motsCles='\n",
    "url_apec_end='&page='\n",
    "url_apec=url_apec_base + str_keywords + url_apec_end"
   ]
  },
  {
   "cell_type": "code",
   "execution_count": 27,
   "id": "40d000d7",
   "metadata": {},
   "outputs": [],
   "source": [
    "page_number=500\n",
    "url=url_apec + str(page_number)"
   ]
  },
  {
   "cell_type": "code",
   "execution_count": 28,
   "id": "b58da959",
   "metadata": {},
   "outputs": [],
   "source": [
    "driver.get(url)"
   ]
  },
  {
   "cell_type": "code",
   "execution_count": 29,
   "id": "35fa2e16",
   "metadata": {},
   "outputs": [
    {
     "name": "stderr",
     "output_type": "stream",
     "text": [
      "C:\\Users\\natha\\Anaconda3\\lib\\site-packages\\ipykernel_launcher.py:2: DeprecationWarning: find_element_by_* commands are deprecated. Please use find_element() instead\n",
      "  \n"
     ]
    }
   ],
   "source": [
    "#We look for elements with tag 'h2'\n",
    "h2_element=driver.find_element_by_tag_name('h2')"
   ]
  },
  {
   "cell_type": "code",
   "execution_count": 30,
   "id": "4bbff8f7",
   "metadata": {},
   "outputs": [
    {
     "data": {
      "text/plain": [
       "'CANDIDAT'"
      ]
     },
     "execution_count": 30,
     "metadata": {},
     "output_type": "execute_result"
    }
   ],
   "source": [
    "#We can access the text of the element but it's not returning what we want. And it only returns one element\n",
    "h2_element.text"
   ]
  },
  {
   "cell_type": "code",
   "execution_count": 31,
   "id": "d2bb5ec0",
   "metadata": {},
   "outputs": [
    {
     "name": "stderr",
     "output_type": "stream",
     "text": [
      "C:\\Users\\natha\\Anaconda3\\lib\\site-packages\\ipykernel_launcher.py:1: DeprecationWarning: find_elements_by_* commands are deprecated. Please use find_elements() instead\n",
      "  \"\"\"Entry point for launching an IPython kernel.\n"
     ]
    }
   ],
   "source": [
    "all_h2_elements=driver.find_elements_by_tag_name('h2')"
   ]
  },
  {
   "cell_type": "code",
   "execution_count": 32,
   "id": "ff997567",
   "metadata": {},
   "outputs": [],
   "source": [
    "#The below is working but not the right way to do this as we want to iterate on all elements of the collection\n",
    "wrongway_apec_h2=[all_h2_elements[i].text for i in range(len(all_h2_elements))]"
   ]
  },
  {
   "cell_type": "code",
   "execution_count": 33,
   "id": "c0209520",
   "metadata": {},
   "outputs": [],
   "source": [
    "#This is the better way to do this!! No need to use range and index inside a list comprehension\n",
    "apec_h2=[element.text for element in all_h2_elements] "
   ]
  },
  {
   "cell_type": "code",
   "execution_count": 34,
   "id": "420b6ddb",
   "metadata": {},
   "outputs": [
    {
     "data": {
      "text/plain": [
       "['CANDIDAT', 'RENDEZ-VOUS CONSEIL', '']"
      ]
     },
     "execution_count": 34,
     "metadata": {},
     "output_type": "execute_result"
    }
   ],
   "source": [
    "apec_h2"
   ]
  }
 ],
 "metadata": {
  "kernelspec": {
   "display_name": "Python 3 (ipykernel)",
   "language": "python",
   "name": "python3"
  },
  "language_info": {
   "codemirror_mode": {
    "name": "ipython",
    "version": 3
   },
   "file_extension": ".py",
   "mimetype": "text/x-python",
   "name": "python",
   "nbconvert_exporter": "python",
   "pygments_lexer": "ipython3",
   "version": "3.7.10"
  }
 },
 "nbformat": 4,
 "nbformat_minor": 5
}
