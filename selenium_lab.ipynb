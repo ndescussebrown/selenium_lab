{
 "cells": [
  {
   "cell_type": "code",
   "execution_count": 47,
   "id": "c405354b",
   "metadata": {},
   "outputs": [
    {
     "name": "stdout",
     "output_type": "stream",
     "text": [
      "Requirement already satisfied: selenium in c:\\users\\natha\\anaconda3\\lib\\site-packages (4.1.0)\n",
      "Requirement already satisfied: trio~=0.17 in c:\\users\\natha\\anaconda3\\lib\\site-packages (from selenium) (0.19.0)\n",
      "Requirement already satisfied: trio-websocket~=0.9 in c:\\users\\natha\\anaconda3\\lib\\site-packages (from selenium) (0.9.2)\n",
      "Requirement already satisfied: urllib3[secure]~=1.26 in c:\\users\\natha\\anaconda3\\lib\\site-packages (from selenium) (1.26.6)\n",
      "Requirement already satisfied: async-generator>=1.9 in c:\\users\\natha\\anaconda3\\lib\\site-packages (from trio~=0.17->selenium) (1.10)\n",
      "Requirement already satisfied: attrs>=19.2.0 in c:\\users\\natha\\anaconda3\\lib\\site-packages (from trio~=0.17->selenium) (21.2.0)\n",
      "Requirement already satisfied: outcome in c:\\users\\natha\\anaconda3\\lib\\site-packages (from trio~=0.17->selenium) (1.1.0)\n",
      "Requirement already satisfied: sortedcontainers in c:\\users\\natha\\anaconda3\\lib\\site-packages (from trio~=0.17->selenium) (2.4.0)\n",
      "Requirement already satisfied: sniffio in c:\\users\\natha\\anaconda3\\lib\\site-packages (from trio~=0.17->selenium) (1.2.0)\n",
      "Requirement already satisfied: idna in c:\\users\\natha\\anaconda3\\lib\\site-packages (from trio~=0.17->selenium) (3.2)\n",
      "Requirement already satisfied: cffi>=1.14 in c:\\users\\natha\\anaconda3\\lib\\site-packages (from trio~=0.17->selenium) (1.14.6)\n",
      "Requirement already satisfied: pycparser in c:\\users\\natha\\anaconda3\\lib\\site-packages (from cffi>=1.14->trio~=0.17->selenium) (2.20)\n",
      "Requirement already satisfied: wsproto>=0.14 in c:\\users\\natha\\anaconda3\\lib\\site-packages (from trio-websocket~=0.9->selenium) (1.0.0)\n",
      "Requirement already satisfied: certifi in c:\\users\\natha\\anaconda3\\lib\\site-packages (from urllib3[secure]~=1.26->selenium) (2021.5.30)\n",
      "Requirement already satisfied: pyOpenSSL>=0.14 in c:\\users\\natha\\anaconda3\\lib\\site-packages (from urllib3[secure]~=1.26->selenium) (20.0.1)\n",
      "Requirement already satisfied: cryptography>=1.3.4 in c:\\users\\natha\\anaconda3\\lib\\site-packages (from urllib3[secure]~=1.26->selenium) (3.4.7)\n",
      "Requirement already satisfied: six>=1.5.2 in c:\\users\\natha\\anaconda3\\lib\\site-packages (from pyOpenSSL>=0.14->urllib3[secure]~=1.26->selenium) (1.16.0)\n",
      "Requirement already satisfied: h11<1,>=0.9.0 in c:\\users\\natha\\anaconda3\\lib\\site-packages (from wsproto>=0.14->trio-websocket~=0.9->selenium) (0.12.0)\n"
     ]
    }
   ],
   "source": [
    "#First we install selenium\n",
    "!pip install selenium"
   ]
  },
  {
   "cell_type": "code",
   "execution_count": 48,
   "id": "dae708fd",
   "metadata": {},
   "outputs": [],
   "source": [
    "import selenium"
   ]
  },
  {
   "cell_type": "code",
   "execution_count": 49,
   "id": "b3a109cc",
   "metadata": {},
   "outputs": [],
   "source": [
    "from selenium import webdriver"
   ]
  },
  {
   "cell_type": "code",
   "execution_count": 50,
   "id": "e5c4b05f",
   "metadata": {},
   "outputs": [
    {
     "name": "stderr",
     "output_type": "stream",
     "text": [
      "C:\\Users\\natha\\Anaconda3\\lib\\site-packages\\ipykernel_launcher.py:3: DeprecationWarning: executable_path has been deprecated, please pass in a Service object\n",
      "  This is separate from the ipykernel package so we can avoid doing imports until\n"
     ]
    }
   ],
   "source": [
    "#Specify path to chrome driver. \n",
    "#We can check the command worked by checking it opens a new window\n",
    "driver = webdriver.Chrome('C:/Users/natha/DSTI/Python Labs/chromedriver.exe') "
   ]
  },
  {
   "cell_type": "code",
   "execution_count": 51,
   "id": "de1e7f5d",
   "metadata": {},
   "outputs": [],
   "source": [
    "#The below command will show the website called in a new page\n",
    "driver.get(\"http://www.python.org\")"
   ]
  },
  {
   "cell_type": "code",
   "execution_count": 52,
   "id": "a33e7c21",
   "metadata": {},
   "outputs": [],
   "source": [
    "#The below command checks that 'Python' is in the driver's title. We can use 'assert' to check other things \n",
    "#(for example checking whether a variable is an integer etc)\n",
    "assert \"Python\" in driver.title"
   ]
  },
  {
   "cell_type": "code",
   "execution_count": 53,
   "id": "0c0bc963",
   "metadata": {},
   "outputs": [
    {
     "name": "stdout",
     "output_type": "stream",
     "text": [
      "Welcome to Python.org\n"
     ]
    }
   ],
   "source": [
    "#We can check the title of the page. Beware it is different from the url of the page!\n",
    "print(driver.title)"
   ]
  },
  {
   "cell_type": "code",
   "execution_count": 54,
   "id": "ebea5b1c",
   "metadata": {},
   "outputs": [
    {
     "name": "stderr",
     "output_type": "stream",
     "text": [
      "C:\\Users\\natha\\Anaconda3\\lib\\site-packages\\ipykernel_launcher.py:1: DeprecationWarning: find_element_by_* commands are deprecated. Please use find_element() instead\n",
      "  \"\"\"Entry point for launching an IPython kernel.\n"
     ]
    }
   ],
   "source": [
    "elem = driver.find_element_by_name(\"q\")"
   ]
  },
  {
   "cell_type": "code",
   "execution_count": 55,
   "id": "aa94c267",
   "metadata": {},
   "outputs": [
    {
     "data": {
      "text/plain": [
       "<selenium.webdriver.remote.webelement.WebElement (session=\"cf8e8340beebfed3be4523c6b105c1d2\", element=\"b08fe76f-2440-4f39-9d08-96dc6ae73fae\")>"
      ]
     },
     "execution_count": 55,
     "metadata": {},
     "output_type": "execute_result"
    }
   ],
   "source": [
    "elem"
   ]
  },
  {
   "cell_type": "code",
   "execution_count": 678,
   "id": "ba3ae64b",
   "metadata": {},
   "outputs": [],
   "source": [
    "#We look for a specific job within the apec page and search for specific key words\n",
    "keywords=['data','engineer']\n",
    "str_keywords = '%20'.join(keywords)"
   ]
  },
  {
   "cell_type": "code",
   "execution_count": 57,
   "id": "823b7745",
   "metadata": {},
   "outputs": [],
   "source": [
    "url_apec_base ='https://www.apec.fr/candidat/recherche-emploi.html/emploi?motsCles='\n",
    "url_apec_end ='&page='\n",
    "url_apec = url_apec_base + str_keywords + url_apec_end"
   ]
  },
  {
   "cell_type": "code",
   "execution_count": 58,
   "id": "40d000d7",
   "metadata": {},
   "outputs": [],
   "source": [
    "page_number=500\n",
    "url = url_apec + str(page_number)"
   ]
  },
  {
   "cell_type": "code",
   "execution_count": 59,
   "id": "b58da959",
   "metadata": {},
   "outputs": [],
   "source": [
    "driver.get(url)"
   ]
  },
  {
   "cell_type": "code",
   "execution_count": 60,
   "id": "35fa2e16",
   "metadata": {},
   "outputs": [
    {
     "name": "stderr",
     "output_type": "stream",
     "text": [
      "C:\\Users\\natha\\Anaconda3\\lib\\site-packages\\ipykernel_launcher.py:2: DeprecationWarning: find_element_by_* commands are deprecated. Please use find_element() instead\n",
      "  \n"
     ]
    }
   ],
   "source": [
    "#We look for elements with tag 'h2'\n",
    "h2_element=driver.find_element_by_tag_name('h2')"
   ]
  },
  {
   "cell_type": "code",
   "execution_count": 61,
   "id": "4bbff8f7",
   "metadata": {},
   "outputs": [
    {
     "data": {
      "text/plain": [
       "'CANDIDAT'"
      ]
     },
     "execution_count": 61,
     "metadata": {},
     "output_type": "execute_result"
    }
   ],
   "source": [
    "#We can access the text of the element but it's not returning what we want. And it only returns one element\n",
    "h2_element.text"
   ]
  },
  {
   "cell_type": "code",
   "execution_count": 62,
   "id": "d2bb5ec0",
   "metadata": {},
   "outputs": [
    {
     "name": "stderr",
     "output_type": "stream",
     "text": [
      "C:\\Users\\natha\\Anaconda3\\lib\\site-packages\\ipykernel_launcher.py:1: DeprecationWarning: find_elements_by_* commands are deprecated. Please use find_elements() instead\n",
      "  \"\"\"Entry point for launching an IPython kernel.\n"
     ]
    }
   ],
   "source": [
    "all_h2_elements = driver.find_elements_by_tag_name('h2')"
   ]
  },
  {
   "cell_type": "code",
   "execution_count": 63,
   "id": "ff997567",
   "metadata": {},
   "outputs": [],
   "source": [
    "#The below is working but not the right way to do this as we want to iterate on \n",
    "#all elements of the collection\n",
    "wrongway_apec_h2 = [all_h2_elements[i].text for i in range(len(all_h2_elements))]"
   ]
  },
  {
   "cell_type": "code",
   "execution_count": 64,
   "id": "c0209520",
   "metadata": {},
   "outputs": [],
   "source": [
    "#This is the better way to do this!! No need to use range and index inside a \n",
    "#list comprehension\n",
    "apec_h2 = [element.text for element in all_h2_elements] "
   ]
  },
  {
   "cell_type": "code",
   "execution_count": 65,
   "id": "420b6ddb",
   "metadata": {},
   "outputs": [],
   "source": [
    "#We aggregate all the above in a function that takes a list of keywords and page \n",
    "#number as input\n",
    "def build_url(keywords,page_number):\n",
    "    '''\n",
    "    Function takes a list of keywords (such as ['data','engineer']) and \n",
    "    page number as input and returns concatenated url\n",
    "    '''\n",
    "    str_keywords = '%20'.join(keywords)\n",
    "    url_apec_base ='https://www.apec.fr/candidat/recherche-emploi.html/emploi?motsCles='\n",
    "    url_apec_end ='&page='\n",
    "    url_apec = url_apec_base + str_keywords + url_apec_end + str(page_number)\n",
    "    \n",
    "    return url_apec"
   ]
  },
  {
   "cell_type": "code",
   "execution_count": 66,
   "id": "35fcfe62",
   "metadata": {},
   "outputs": [],
   "source": [
    "#check the function is working. Best to also save the function \n",
    "#into a variable when calling a function.\n",
    "apec_url_page2=build_url(keywords,1)"
   ]
  },
  {
   "cell_type": "code",
   "execution_count": 67,
   "id": "0ade8632",
   "metadata": {},
   "outputs": [],
   "source": [
    "tag='h2'"
   ]
  },
  {
   "cell_type": "code",
   "execution_count": 147,
   "id": "6d5d900d",
   "metadata": {},
   "outputs": [],
   "source": [
    "#We define another function to build a table per url page \n",
    "def extract_job_titles(url,tag):\n",
    "    '''\n",
    "    This function extracts job titles from the page called\n",
    "    '''\n",
    "\n",
    "    driver.get(url)\n",
    "    all_elements=driver.find_elements_by_tag_name(tag)\n",
    "    apec_elements = [element.text for element in all_elements] \n",
    "    \n",
    "    return apec_elements"
   ]
  },
  {
   "cell_type": "code",
   "execution_count": 95,
   "id": "873e8b49",
   "metadata": {},
   "outputs": [
    {
     "name": "stderr",
     "output_type": "stream",
     "text": [
      "C:\\Users\\natha\\Anaconda3\\lib\\site-packages\\ipykernel_launcher.py:7: DeprecationWarning: find_elements_by_* commands are deprecated. Please use find_elements() instead\n",
      "  import sys\n"
     ]
    },
    {
     "data": {
      "text/plain": [
       "['CANDIDAT',\n",
       " 'Data Engineer F/H',\n",
       " 'Data engineer F/H',\n",
       " 'Data Engineer F/H',\n",
       " 'Data Engineer F/H',\n",
       " 'Data Engineer F/H',\n",
       " 'Data Engineer F/H',\n",
       " 'Data Engineer F/H',\n",
       " 'Data Engineer F/H',\n",
       " 'Data Engineer F/H',\n",
       " 'Data Engineer F/H',\n",
       " 'Data Engineer F/H',\n",
       " 'Data engineer F/H',\n",
       " 'Data engineer F/H',\n",
       " 'Data Engineer F/H',\n",
       " 'Data Engineer F/H',\n",
       " 'Data Engineer F/H',\n",
       " 'Data Engineer F/H',\n",
       " 'Data Engineer F/H',\n",
       " 'Data Engineer F/H',\n",
       " 'Data Engineer F/H',\n",
       " 'RENDEZ-VOUS CONSEIL',\n",
       " '']"
      ]
     },
     "execution_count": 95,
     "metadata": {},
     "output_type": "execute_result"
    }
   ],
   "source": [
    "extract_job_titles(apec_url_page2,tag)"
   ]
  },
  {
   "cell_type": "code",
   "execution_count": 96,
   "id": "22b70b85",
   "metadata": {},
   "outputs": [],
   "source": [
    "#Improving on previous function to make use of find_elements() instead\n",
    "from selenium.webdriver.common.by import By\n",
    "def extract_job_titles_2(url,tag):\n",
    "    '''\n",
    "    This function extracts job titles from the page called\n",
    "    '''\n",
    "    driver.get(url)\n",
    "    all_elements=driver.find_elements(By.TAG_NAME,tag)\n",
    "    apec_elements = [element.text for element in all_elements] \n",
    "    \n",
    "    return apec_elements"
   ]
  },
  {
   "cell_type": "code",
   "execution_count": 70,
   "id": "20de77f0",
   "metadata": {},
   "outputs": [],
   "source": [
    "#We now  want to build an overall function that uses the above functions\n",
    "#to return:\n",
    "#1. Number of job offer pages\n",
    "#2. etxract job title and \n",
    "#3. iterate on list of urls to build a doctionary with job lists\n",
    "#4. build csv file to lists job title"
   ]
  },
  {
   "cell_type": "code",
   "execution_count": 97,
   "id": "9a64bf8d",
   "metadata": {},
   "outputs": [
    {
     "data": {
      "text/plain": [
       "['CANDIDAT',\n",
       " 'Data Engineer F/H',\n",
       " 'Data engineer F/H',\n",
       " 'Data Engineer F/H',\n",
       " 'Data Engineer F/H',\n",
       " 'Data Engineer F/H',\n",
       " 'Data Engineer F/H',\n",
       " 'Data Engineer F/H',\n",
       " 'Data Engineer F/H',\n",
       " 'Data Engineer F/H',\n",
       " 'Data Engineer F/H',\n",
       " 'Data Engineer F/H',\n",
       " 'Data engineer F/H',\n",
       " 'Data engineer F/H',\n",
       " 'Data Engineer F/H',\n",
       " 'Data Engineer F/H',\n",
       " 'Data Engineer F/H',\n",
       " 'Data Engineer F/H',\n",
       " 'Data Engineer F/H',\n",
       " 'Data Engineer F/H',\n",
       " 'Data Engineer F/H',\n",
       " 'RENDEZ-VOUS CONSEIL',\n",
       " '']"
      ]
     },
     "execution_count": 97,
     "metadata": {},
     "output_type": "execute_result"
    }
   ],
   "source": [
    "extract_job_titles_2(apec_url_page2,tag)\n"
   ]
  },
  {
   "cell_type": "code",
   "execution_count": 180,
   "id": "88cf0e03",
   "metadata": {},
   "outputs": [],
   "source": [
    "#Improving on previous function to make use of find_elements() instead with classes=['data','engineer']\n",
    "from selenium.webdriver.common.by import By\n",
    "def extract_job_titles_class(url,classes):\n",
    "    '''\n",
    "    This function extracts job titles from the page called\n",
    "    '''\n",
    "       \n",
    "    driver.get(url)\n",
    "    all_elements=driver.find_elements(By.CLASS_NAME,classes)\n",
    "    apec_elements = [element.text for element in all_elements] \n",
    "    \n",
    "    return apec_elements"
   ]
  },
  {
   "cell_type": "code",
   "execution_count": 181,
   "id": "be0de838",
   "metadata": {},
   "outputs": [
    {
     "data": {
      "text/plain": [
       "['',\n",
       " 'Data Engineer F/H',\n",
       " 'Data engineer F/H',\n",
       " 'Data Engineer F/H',\n",
       " 'Data Engineer F/H',\n",
       " 'Data Engineer F/H',\n",
       " 'Data Engineer F/H',\n",
       " 'Data Engineer F/H',\n",
       " 'Data Engineer F/H',\n",
       " 'Data Engineer F/H',\n",
       " 'Data Engineer F/H',\n",
       " 'Data Engineer F/H',\n",
       " 'Data engineer F/H',\n",
       " 'Data engineer F/H',\n",
       " 'Data Engineer F/H',\n",
       " 'Data Engineer F/H',\n",
       " 'Data Engineer F/H',\n",
       " 'Data Engineer F/H',\n",
       " 'Data Engineer F/H',\n",
       " 'Data Engineer F/H',\n",
       " 'Data Engineer F/H',\n",
       " 'LES ENTREPRISES QUI RECRUTENT',\n",
       " 'RENDEZ-VOUS CONSEIL',\n",
       " 'V.I.E / V.I.A']"
      ]
     },
     "execution_count": 181,
     "metadata": {},
     "output_type": "execute_result"
    }
   ],
   "source": [
    "extract_job_titles_class(apec_url_page2,'card-title')"
   ]
  },
  {
   "cell_type": "code",
   "execution_count": 243,
   "id": "64a33562",
   "metadata": {},
   "outputs": [],
   "source": [
    "#we try to improve on the above as we noticed job titles are associated with two classes and not just one so filtering\n",
    "#on these two classes will enable us to return ONLY job titles and not other elements with classes 'card-title' and\n",
    "#'fs-16'\n",
    "def extract_job_titles_multipleclass(url):\n",
    "    '''\n",
    "    This function extracts job titles from the page called\n",
    "    '''\n",
    "       \n",
    "    driver.get(url)\n",
    "    all_classes_elements=driver.find_elements(By.CSS_SELECTOR,'.card-title.fs-16')\n",
    "    apec_elements_classes = [element.text for element in all_classes_elements] \n",
    "        \n",
    "    return apec_elements_classes"
   ]
  },
  {
   "cell_type": "markdown",
   "id": "cfcc374c",
   "metadata": {},
   "source": [
    "### Note that if you use driver.find_elements(By.CLASS_NAME, 'card-title.fs-16') instead of CSS_SELECTOR you don't need the '.' before the first class'"
   ]
  },
  {
   "cell_type": "code",
   "execution_count": 244,
   "id": "e0b63795",
   "metadata": {},
   "outputs": [
    {
     "data": {
      "text/plain": [
       "['Data Engineer F/H',\n",
       " 'Data engineer F/H',\n",
       " 'Data Engineer F/H',\n",
       " 'Data Engineer F/H',\n",
       " 'Data Engineer F/H',\n",
       " 'Data Engineer F/H',\n",
       " 'Data Engineer F/H',\n",
       " 'Data Engineer F/H',\n",
       " 'Data Engineer F/H',\n",
       " 'Data Engineer F/H',\n",
       " 'Data Engineer F/H',\n",
       " 'Data engineer F/H',\n",
       " 'Data engineer F/H',\n",
       " 'Data Engineer F/H',\n",
       " 'Data Engineer F/H',\n",
       " 'Data Engineer F/H',\n",
       " 'Data Engineer F/H',\n",
       " 'Data Engineer F/H',\n",
       " 'Data Engineer F/H',\n",
       " 'Data Engineer F/H']"
      ]
     },
     "execution_count": 244,
     "metadata": {},
     "output_type": "execute_result"
    }
   ],
   "source": [
    "extract_job_titles_multipleclass(apec_url_page2)"
   ]
  },
  {
   "cell_type": "code",
   "execution_count": 192,
   "id": "bbde390f",
   "metadata": {},
   "outputs": [
    {
     "data": {
      "text/plain": [
       "'.card-title.fs-16'"
      ]
     },
     "execution_count": 192,
     "metadata": {},
     "output_type": "execute_result"
    }
   ],
   "source": [
    "'.'+ '.'.join(['card-title','fs-16'])"
   ]
  },
  {
   "cell_type": "code",
   "execution_count": 233,
   "id": "d665ee1b",
   "metadata": {},
   "outputs": [],
   "source": [
    "#we try to improve on the above by removing the hardcoding and generalising to a number of classes. We also move them\n",
    "#to a dataframe\n",
    "import pandas as pd\n",
    "df=pd.DataFrame()\n",
    "\n",
    "def extract_job_titles_multipleclass(url, job_title_keywords,job_company_keywords):\n",
    "    '''\n",
    "    This function extracts job titles from the page called\n",
    "    '''\n",
    "    str_classes_jobtitle = '.'+ '.'.join(job_title_keywords)\n",
    "    str_classes_company = '.'+ '.'.join(job_company_keywords)\n",
    "    driver.get(url)\n",
    "    jobtitle_elements=driver.find_elements(By.CSS_SELECTOR,str_classes_jobtitle)\n",
    "    apec_jobtitles_classes = [element.text for element in jobtitle_elements] \n",
    "    company_elements=driver.find_elements(By.CSS_SELECTOR,str_classes_company)\n",
    "    apec_company_classes = [element.text for element in company_elements] \n",
    "    \n",
    "    df=pd.DataFrame(list(zip(apec_jobtitles_classes, apec_company_classes)),columns =['Job', 'Company'])\n",
    "    #df.columns=['company','job']\n",
    "    return df"
   ]
  },
  {
   "cell_type": "code",
   "execution_count": 234,
   "id": "50b5d2af",
   "metadata": {},
   "outputs": [
    {
     "data": {
      "text/html": [
       "<div>\n",
       "<style scoped>\n",
       "    .dataframe tbody tr th:only-of-type {\n",
       "        vertical-align: middle;\n",
       "    }\n",
       "\n",
       "    .dataframe tbody tr th {\n",
       "        vertical-align: top;\n",
       "    }\n",
       "\n",
       "    .dataframe thead th {\n",
       "        text-align: right;\n",
       "    }\n",
       "</style>\n",
       "<table border=\"1\" class=\"dataframe\">\n",
       "  <thead>\n",
       "    <tr style=\"text-align: right;\">\n",
       "      <th></th>\n",
       "      <th>Job</th>\n",
       "      <th>Company</th>\n",
       "    </tr>\n",
       "  </thead>\n",
       "  <tbody>\n",
       "    <tr>\n",
       "      <th>0</th>\n",
       "      <td>Data Engineer F/H</td>\n",
       "      <td>MICHAEL PAGE</td>\n",
       "    </tr>\n",
       "    <tr>\n",
       "      <th>1</th>\n",
       "      <td>Data engineer F/H</td>\n",
       "      <td>SAS RECHERCHES ET HORIZONS</td>\n",
       "    </tr>\n",
       "    <tr>\n",
       "      <th>2</th>\n",
       "      <td>Data Engineer F/H</td>\n",
       "      <td>SCIENT</td>\n",
       "    </tr>\n",
       "    <tr>\n",
       "      <th>3</th>\n",
       "      <td>Data Engineer F/H</td>\n",
       "      <td>MANPOWER CONSEIL RECRUTEMENT</td>\n",
       "    </tr>\n",
       "    <tr>\n",
       "      <th>4</th>\n",
       "      <td>Data Engineer F/H</td>\n",
       "      <td>CAPGEMINI TECHNOLOGY SERVICES</td>\n",
       "    </tr>\n",
       "    <tr>\n",
       "      <th>5</th>\n",
       "      <td>Data Engineer F/H</td>\n",
       "      <td>MINDQUEST | CF - CABINET DE RECRUTEMENT</td>\n",
       "    </tr>\n",
       "    <tr>\n",
       "      <th>6</th>\n",
       "      <td>Data Engineer F/H</td>\n",
       "      <td>REGIONSJOB</td>\n",
       "    </tr>\n",
       "    <tr>\n",
       "      <th>7</th>\n",
       "      <td>Data Engineer F/H</td>\n",
       "      <td>THELIO</td>\n",
       "    </tr>\n",
       "    <tr>\n",
       "      <th>8</th>\n",
       "      <td>Data Engineer F/H</td>\n",
       "      <td>THELIO</td>\n",
       "    </tr>\n",
       "    <tr>\n",
       "      <th>9</th>\n",
       "      <td>Data Engineer F/H</td>\n",
       "      <td>VOLT EUROPE (FRANCE) SARL</td>\n",
       "    </tr>\n",
       "    <tr>\n",
       "      <th>10</th>\n",
       "      <td>Data Engineer F/H</td>\n",
       "      <td>CAPGEMINI SERVICE</td>\n",
       "    </tr>\n",
       "    <tr>\n",
       "      <th>11</th>\n",
       "      <td>Data engineer F/H</td>\n",
       "      <td>SYLVIE BOITEAU</td>\n",
       "    </tr>\n",
       "    <tr>\n",
       "      <th>12</th>\n",
       "      <td>Data engineer F/H</td>\n",
       "      <td>SAS RECHERCHES ET HORIZONS</td>\n",
       "    </tr>\n",
       "    <tr>\n",
       "      <th>13</th>\n",
       "      <td>Data Engineer F/H</td>\n",
       "      <td>CEGID SA LYON</td>\n",
       "    </tr>\n",
       "    <tr>\n",
       "      <th>14</th>\n",
       "      <td>Data Engineer F/H</td>\n",
       "      <td>CARINE DOS SANTOS BLUESCALE</td>\n",
       "    </tr>\n",
       "    <tr>\n",
       "      <th>15</th>\n",
       "      <td>Data Engineer F/H</td>\n",
       "      <td>CAPGEMINI TECHNOLOGY SERVICES</td>\n",
       "    </tr>\n",
       "    <tr>\n",
       "      <th>16</th>\n",
       "      <td>Data Engineer F/H</td>\n",
       "      <td>NEXTGEN RH</td>\n",
       "    </tr>\n",
       "    <tr>\n",
       "      <th>17</th>\n",
       "      <td>Data Engineer F/H</td>\n",
       "      <td>INVIVOO</td>\n",
       "    </tr>\n",
       "    <tr>\n",
       "      <th>18</th>\n",
       "      <td>Data Engineer F/H</td>\n",
       "      <td>SOWRS</td>\n",
       "    </tr>\n",
       "    <tr>\n",
       "      <th>19</th>\n",
       "      <td>Data Engineer F/H</td>\n",
       "      <td>CADREO</td>\n",
       "    </tr>\n",
       "  </tbody>\n",
       "</table>\n",
       "</div>"
      ],
      "text/plain": [
       "                  Job                                  Company\n",
       "0   Data Engineer F/H                             MICHAEL PAGE\n",
       "1   Data engineer F/H               SAS RECHERCHES ET HORIZONS\n",
       "2   Data Engineer F/H                                   SCIENT\n",
       "3   Data Engineer F/H             MANPOWER CONSEIL RECRUTEMENT\n",
       "4   Data Engineer F/H            CAPGEMINI TECHNOLOGY SERVICES\n",
       "5   Data Engineer F/H  MINDQUEST | CF - CABINET DE RECRUTEMENT\n",
       "6   Data Engineer F/H                               REGIONSJOB\n",
       "7   Data Engineer F/H                                   THELIO\n",
       "8   Data Engineer F/H                                   THELIO\n",
       "9   Data Engineer F/H                VOLT EUROPE (FRANCE) SARL\n",
       "10  Data Engineer F/H                        CAPGEMINI SERVICE\n",
       "11  Data engineer F/H                           SYLVIE BOITEAU\n",
       "12  Data engineer F/H               SAS RECHERCHES ET HORIZONS\n",
       "13  Data Engineer F/H                            CEGID SA LYON\n",
       "14  Data Engineer F/H              CARINE DOS SANTOS BLUESCALE\n",
       "15  Data Engineer F/H            CAPGEMINI TECHNOLOGY SERVICES\n",
       "16  Data Engineer F/H                               NEXTGEN RH\n",
       "17  Data Engineer F/H                                  INVIVOO\n",
       "18  Data Engineer F/H                                    SOWRS\n",
       "19  Data Engineer F/H                                   CADREO"
      ]
     },
     "execution_count": 234,
     "metadata": {},
     "output_type": "execute_result"
    }
   ],
   "source": [
    "extract_job_titles_multipleclass(apec_url_page2,['card-title','fs-16'],['card-offer__company','mb-10'])"
   ]
  },
  {
   "cell_type": "code",
   "execution_count": 668,
   "id": "e7ffc163",
   "metadata": {},
   "outputs": [],
   "source": [
    "#we define a function to get the photos from the companies and save them into a csv file\n",
    "df_job_details=pd.DataFrame()\n",
    "\n",
    "def job_details(url):\n",
    "    '''\n",
    "    This function extracts job details from the APEC site for data engineer search\n",
    "    '''\n",
    "    driver.get(url)\n",
    "    images_elements = driver.find_elements(By.CSS_SELECTOR,'div.card-offer__logo img')\n",
    "    images_url = [element.get_attribute('src') for element in images_elements]\n",
    "    #images_url = [element.get_attribute(\"src\") for element in images_elements if element.get_attribute(\"src\").startswith('https')] \n",
    "    salary_element=driver.find_elements(By.CSS_SELECTOR,'div.card-offer__text:nth-last-child(1) ')\n",
    "    salary = [element.text.split('\\n')[2] for element in salary_element]  \n",
    "    job_description = [element.text.split('\\n')[3] for element in salary_element]\n",
    "    job_title = [element.text.split('\\n')[0] for element in salary_element]\n",
    "    company = [element.text.split('\\n')[1] for element in salary_element]\n",
    "    \n",
    "    df_job_details=pd.DataFrame(list(zip(job_title,company,images_url, salary,job_description)),columns =['Job_Title','Company','Company Logo URL', 'Salary','Job_Description'])\n",
    "    \n",
    "    return df_job_details"
   ]
  },
  {
   "cell_type": "code",
   "execution_count": 669,
   "id": "58b768b4",
   "metadata": {},
   "outputs": [
    {
     "data": {
      "text/html": [
       "<div>\n",
       "<style scoped>\n",
       "    .dataframe tbody tr th:only-of-type {\n",
       "        vertical-align: middle;\n",
       "    }\n",
       "\n",
       "    .dataframe tbody tr th {\n",
       "        vertical-align: top;\n",
       "    }\n",
       "\n",
       "    .dataframe thead th {\n",
       "        text-align: right;\n",
       "    }\n",
       "</style>\n",
       "<table border=\"1\" class=\"dataframe\">\n",
       "  <thead>\n",
       "    <tr style=\"text-align: right;\">\n",
       "      <th></th>\n",
       "      <th>Job_Title</th>\n",
       "      <th>Company</th>\n",
       "      <th>Company Logo URL</th>\n",
       "      <th>Salary</th>\n",
       "      <th>Job_Description</th>\n",
       "    </tr>\n",
       "  </thead>\n",
       "  <tbody>\n",
       "    <tr>\n",
       "      <th>0</th>\n",
       "      <td>Data Engineer F/H</td>\n",
       "      <td>MICHAEL PAGE</td>\n",
       "      <td>https://www.apec.fr/files/live/mounts/images/m...</td>\n",
       "      <td>32 - 42 k€ brut annuel</td>\n",
       "      <td>Vos missions seront les suivantes : Concevoir,...</td>\n",
       "    </tr>\n",
       "    <tr>\n",
       "      <th>1</th>\n",
       "      <td>Data engineer F/H</td>\n",
       "      <td>SAS RECHERCHES ET HORIZONS</td>\n",
       "      <td>https://www.apec.fr/files/live/mounts/images/m...</td>\n",
       "      <td>45 - 55 k€ brut annuel</td>\n",
       "      <td>Depuis sa création, la société spécialisée en ...</td>\n",
       "    </tr>\n",
       "    <tr>\n",
       "      <th>2</th>\n",
       "      <td>Data Engineer F/H</td>\n",
       "      <td>SCIENT</td>\n",
       "      <td>https://www.apec.fr/files/live/mounts/images/m...</td>\n",
       "      <td>A partir de 35 k€ brut annuel</td>\n",
       "      <td>Dans le cadre d'un projet de mise en oeuvre d'...</td>\n",
       "    </tr>\n",
       "    <tr>\n",
       "      <th>3</th>\n",
       "      <td>Data Engineer F/H</td>\n",
       "      <td>MANPOWER CONSEIL RECRUTEMENT</td>\n",
       "      <td>https://www.apec.fr/files/live/mounts/images/m...</td>\n",
       "      <td>A négocier</td>\n",
       "      <td>Vos principales missions seront : - Mettre en ...</td>\n",
       "    </tr>\n",
       "    <tr>\n",
       "      <th>4</th>\n",
       "      <td>Data Engineer F/H</td>\n",
       "      <td>CAPGEMINI TECHNOLOGY SERVICES</td>\n",
       "      <td>https://www.apec.fr/files/live/mounts/images/m...</td>\n",
       "      <td>A négocier</td>\n",
       "      <td>VOTRE ROLE, VOS COMPETENCES Vous maitrisez au ...</td>\n",
       "    </tr>\n",
       "    <tr>\n",
       "      <th>5</th>\n",
       "      <td>Data Engineer F/H</td>\n",
       "      <td>MINDQUEST | CF - CABINET DE RECRUTEMENT</td>\n",
       "      <td>https://www.apec.fr/files/live/mounts/images/m...</td>\n",
       "      <td>A négocier</td>\n",
       "      <td>Vous serez en charge de 2 projets : Une partie...</td>\n",
       "    </tr>\n",
       "    <tr>\n",
       "      <th>6</th>\n",
       "      <td>Data Engineer F/H</td>\n",
       "      <td>REGIONSJOB</td>\n",
       "      <td>https://www.apec.fr/files/live/mounts/images/m...</td>\n",
       "      <td>A négocier</td>\n",
       "      <td>Le Groupe Objectware fondé en 1999 est une ESN...</td>\n",
       "    </tr>\n",
       "    <tr>\n",
       "      <th>7</th>\n",
       "      <td>Data Engineer F/H</td>\n",
       "      <td>THELIO</td>\n",
       "      <td>https://www.apec.fr/files/live/mounts/images/m...</td>\n",
       "      <td>30 - 50 k€ brut annuel</td>\n",
       "      <td>Selon vos expériences, votre mission sera de :...</td>\n",
       "    </tr>\n",
       "    <tr>\n",
       "      <th>8</th>\n",
       "      <td>Data Engineer F/H</td>\n",
       "      <td>THELIO</td>\n",
       "      <td>https://www.apec.fr/files/live/mounts/images/m...</td>\n",
       "      <td>30 - 50 k€ brut annuel</td>\n",
       "      <td>Selon vos expériences, votre mission sera de :...</td>\n",
       "    </tr>\n",
       "    <tr>\n",
       "      <th>9</th>\n",
       "      <td>Data Engineer F/H</td>\n",
       "      <td>VOLT EUROPE (FRANCE) SARL</td>\n",
       "      <td>https://www.apec.fr/files/live/mounts/images/m...</td>\n",
       "      <td>35 - 50 k€ brut annuel</td>\n",
       "      <td>Descriptif du poste Nous recherchons un(e) Dat...</td>\n",
       "    </tr>\n",
       "    <tr>\n",
       "      <th>10</th>\n",
       "      <td>Data Engineer F/H</td>\n",
       "      <td>CAPGEMINI SERVICE</td>\n",
       "      <td>https://www.apec.fr/files/live/mounts/images/m...</td>\n",
       "      <td>A négocier</td>\n",
       "      <td>L’ENVIRONNEMENT TECHNIQUE DataHub : •ETL (Tale...</td>\n",
       "    </tr>\n",
       "    <tr>\n",
       "      <th>11</th>\n",
       "      <td>Data engineer F/H</td>\n",
       "      <td>SAS RECHERCHES ET HORIZONS</td>\n",
       "      <td>https://www.apec.fr/files/live/mounts/images/m...</td>\n",
       "      <td>50 - 80 k€ brut annuel</td>\n",
       "      <td>Vous intervenez sur leur plateforme publicitai...</td>\n",
       "    </tr>\n",
       "    <tr>\n",
       "      <th>12</th>\n",
       "      <td>Data engineer F/H</td>\n",
       "      <td>SYLVIE BOITEAU</td>\n",
       "      <td>https://www.apec.fr/files/live/mounts/images/m...</td>\n",
       "      <td>A négocier</td>\n",
       "      <td>Vos missions Vous travaillez en relation direc...</td>\n",
       "    </tr>\n",
       "    <tr>\n",
       "      <th>13</th>\n",
       "      <td>Data Engineer F/H</td>\n",
       "      <td>CEGID SA LYON</td>\n",
       "      <td>https://www.apec.fr/files/live/mounts/images/m...</td>\n",
       "      <td>A négocier</td>\n",
       "      <td>Vos missions Vous apportez une expertise en Bi...</td>\n",
       "    </tr>\n",
       "    <tr>\n",
       "      <th>14</th>\n",
       "      <td>Data Engineer F/H</td>\n",
       "      <td>CAPGEMINI TECHNOLOGY SERVICES</td>\n",
       "      <td>https://www.apec.fr/files/live/mounts/images/m...</td>\n",
       "      <td>A partir de 40 k€ brut annuel</td>\n",
       "      <td>VOTRE ROLE, VOS COMPETENCES   Vous maitrisez a...</td>\n",
       "    </tr>\n",
       "  </tbody>\n",
       "</table>\n",
       "</div>"
      ],
      "text/plain": [
       "            Job_Title                                  Company  \\\n",
       "0   Data Engineer F/H                             MICHAEL PAGE   \n",
       "1   Data engineer F/H               SAS RECHERCHES ET HORIZONS   \n",
       "2   Data Engineer F/H                                   SCIENT   \n",
       "3   Data Engineer F/H             MANPOWER CONSEIL RECRUTEMENT   \n",
       "4   Data Engineer F/H            CAPGEMINI TECHNOLOGY SERVICES   \n",
       "5   Data Engineer F/H  MINDQUEST | CF - CABINET DE RECRUTEMENT   \n",
       "6   Data Engineer F/H                               REGIONSJOB   \n",
       "7   Data Engineer F/H                                   THELIO   \n",
       "8   Data Engineer F/H                                   THELIO   \n",
       "9   Data Engineer F/H                VOLT EUROPE (FRANCE) SARL   \n",
       "10  Data Engineer F/H                        CAPGEMINI SERVICE   \n",
       "11  Data engineer F/H               SAS RECHERCHES ET HORIZONS   \n",
       "12  Data engineer F/H                           SYLVIE BOITEAU   \n",
       "13  Data Engineer F/H                            CEGID SA LYON   \n",
       "14  Data Engineer F/H            CAPGEMINI TECHNOLOGY SERVICES   \n",
       "\n",
       "                                     Company Logo URL  \\\n",
       "0   https://www.apec.fr/files/live/mounts/images/m...   \n",
       "1   https://www.apec.fr/files/live/mounts/images/m...   \n",
       "2   https://www.apec.fr/files/live/mounts/images/m...   \n",
       "3   https://www.apec.fr/files/live/mounts/images/m...   \n",
       "4   https://www.apec.fr/files/live/mounts/images/m...   \n",
       "5   https://www.apec.fr/files/live/mounts/images/m...   \n",
       "6   https://www.apec.fr/files/live/mounts/images/m...   \n",
       "7   https://www.apec.fr/files/live/mounts/images/m...   \n",
       "8   https://www.apec.fr/files/live/mounts/images/m...   \n",
       "9   https://www.apec.fr/files/live/mounts/images/m...   \n",
       "10  https://www.apec.fr/files/live/mounts/images/m...   \n",
       "11  https://www.apec.fr/files/live/mounts/images/m...   \n",
       "12  https://www.apec.fr/files/live/mounts/images/m...   \n",
       "13  https://www.apec.fr/files/live/mounts/images/m...   \n",
       "14  https://www.apec.fr/files/live/mounts/images/m...   \n",
       "\n",
       "                           Salary  \\\n",
       "0          32 - 42 k€ brut annuel   \n",
       "1          45 - 55 k€ brut annuel   \n",
       "2   A partir de 35 k€ brut annuel   \n",
       "3                      A négocier   \n",
       "4                      A négocier   \n",
       "5                      A négocier   \n",
       "6                      A négocier   \n",
       "7          30 - 50 k€ brut annuel   \n",
       "8          30 - 50 k€ brut annuel   \n",
       "9          35 - 50 k€ brut annuel   \n",
       "10                     A négocier   \n",
       "11         50 - 80 k€ brut annuel   \n",
       "12                     A négocier   \n",
       "13                     A négocier   \n",
       "14  A partir de 40 k€ brut annuel   \n",
       "\n",
       "                                      Job_Description  \n",
       "0   Vos missions seront les suivantes : Concevoir,...  \n",
       "1   Depuis sa création, la société spécialisée en ...  \n",
       "2   Dans le cadre d'un projet de mise en oeuvre d'...  \n",
       "3   Vos principales missions seront : - Mettre en ...  \n",
       "4   VOTRE ROLE, VOS COMPETENCES Vous maitrisez au ...  \n",
       "5   Vous serez en charge de 2 projets : Une partie...  \n",
       "6   Le Groupe Objectware fondé en 1999 est une ESN...  \n",
       "7   Selon vos expériences, votre mission sera de :...  \n",
       "8   Selon vos expériences, votre mission sera de :...  \n",
       "9   Descriptif du poste Nous recherchons un(e) Dat...  \n",
       "10  L’ENVIRONNEMENT TECHNIQUE DataHub : •ETL (Tale...  \n",
       "11  Vous intervenez sur leur plateforme publicitai...  \n",
       "12  Vos missions Vous travaillez en relation direc...  \n",
       "13  Vos missions Vous apportez une expertise en Bi...  \n",
       "14  VOTRE ROLE, VOS COMPETENCES   Vous maitrisez a...  "
      ]
     },
     "execution_count": 669,
     "metadata": {},
     "output_type": "execute_result"
    }
   ],
   "source": [
    "job_details(apec_url_page2)"
   ]
  },
  {
   "cell_type": "code",
   "execution_count": 679,
   "id": "274b3581",
   "metadata": {},
   "outputs": [],
   "source": [
    "apec_url_page14=build_url(keywords,13)"
   ]
  },
  {
   "cell_type": "code",
   "execution_count": 680,
   "id": "045c4e67",
   "metadata": {},
   "outputs": [
    {
     "data": {
      "text/html": [
       "<div>\n",
       "<style scoped>\n",
       "    .dataframe tbody tr th:only-of-type {\n",
       "        vertical-align: middle;\n",
       "    }\n",
       "\n",
       "    .dataframe tbody tr th {\n",
       "        vertical-align: top;\n",
       "    }\n",
       "\n",
       "    .dataframe thead th {\n",
       "        text-align: right;\n",
       "    }\n",
       "</style>\n",
       "<table border=\"1\" class=\"dataframe\">\n",
       "  <thead>\n",
       "    <tr style=\"text-align: right;\">\n",
       "      <th></th>\n",
       "      <th>Job_Title</th>\n",
       "      <th>Company</th>\n",
       "      <th>Company Logo URL</th>\n",
       "      <th>Salary</th>\n",
       "      <th>Job_Description</th>\n",
       "    </tr>\n",
       "  </thead>\n",
       "  <tbody>\n",
       "    <tr>\n",
       "      <th>0</th>\n",
       "      <td>DevSecOps F/H</td>\n",
       "      <td>ELITEGROUP</td>\n",
       "      <td>https://www.apec.fr/files/live/mounts/images/m...</td>\n",
       "      <td>50 - 70 k€ brut annuel</td>\n",
       "      <td>Créez des outils pour aider les PME à lutter c...</td>\n",
       "    </tr>\n",
       "    <tr>\n",
       "      <th>1</th>\n",
       "      <td>Software engineer C++ F/H</td>\n",
       "      <td>ENGIT</td>\n",
       "      <td>https://www.apec.fr/files/live/mounts/images/m...</td>\n",
       "      <td>A partir de 37 k€ brut annuel</td>\n",
       "      <td>engIT est une société d’ingénierie dédiée à l’...</td>\n",
       "    </tr>\n",
       "    <tr>\n",
       "      <th>2</th>\n",
       "      <td>Ingénieur Intégration C# F/H</td>\n",
       "      <td>ALLIGATOR</td>\n",
       "      <td>https://www.apec.fr/files/live/mounts/images/m...</td>\n",
       "      <td>A négocier</td>\n",
       "      <td>Mission Vous développerez, maintiendrez et enr...</td>\n",
       "    </tr>\n",
       "    <tr>\n",
       "      <th>3</th>\n",
       "      <td>Ingénieur Validation et Automatisation de Test...</td>\n",
       "      <td>ALLIGATOR</td>\n",
       "      <td>https://www.apec.fr/files/live/mounts/images/m...</td>\n",
       "      <td>A négocier</td>\n",
       "      <td>Mission Vous développerez, maintiendrez et enr...</td>\n",
       "    </tr>\n",
       "    <tr>\n",
       "      <th>4</th>\n",
       "      <td>Ingénieur infrastructure en gestion de données...</td>\n",
       "      <td>ESKER</td>\n",
       "      <td>https://www.apec.fr/files/live/mounts/images/m...</td>\n",
       "      <td>A négocier</td>\n",
       "      <td>Envie de vous confronter à des défis d’infrast...</td>\n",
       "    </tr>\n",
       "    <tr>\n",
       "      <th>5</th>\n",
       "      <td>Ingénieur Sécurité Senior - Full remote F/H</td>\n",
       "      <td>ELITEGROUP</td>\n",
       "      <td>https://www.apec.fr/files/live/mounts/images/m...</td>\n",
       "      <td>55 - 65 k€ brut annuel</td>\n",
       "      <td>Département Innovation (80 tech) Votre équipe ...</td>\n",
       "    </tr>\n",
       "    <tr>\n",
       "      <th>6</th>\n",
       "      <td>JR10092330 Test Flight Engineer F/H</td>\n",
       "      <td>AIRBUS</td>\n",
       "      <td>https://www.apec.fr/files/live/mounts/images/m...</td>\n",
       "      <td>A négocier</td>\n",
       "      <td>Un poste d'ingénieur de vol d'essai (h/f) est ...</td>\n",
       "    </tr>\n",
       "    <tr>\n",
       "      <th>7</th>\n",
       "      <td>Software Devops Engineer for MLOps Platform F/H</td>\n",
       "      <td>ATOS</td>\n",
       "      <td>https://www.apec.fr/files/live/mounts/images/m...</td>\n",
       "      <td>A négocier</td>\n",
       "      <td>L’équipe BDSW de la R&amp;D HPC &amp; AI Software déve...</td>\n",
       "    </tr>\n",
       "    <tr>\n",
       "      <th>8</th>\n",
       "      <td>Hydraulic Design R&amp;D Engineer F/H</td>\n",
       "      <td>ATOS</td>\n",
       "      <td>https://www.apec.fr/files/live/mounts/images/m...</td>\n",
       "      <td>A négocier</td>\n",
       "      <td>Nous recrutons un(e) Ingénieur(e) Conception R...</td>\n",
       "    </tr>\n",
       "    <tr>\n",
       "      <th>9</th>\n",
       "      <td>Senior QA Engineer Test Automation (Éditeur de...</td>\n",
       "      <td>SEYOS</td>\n",
       "      <td>https://www.apec.fr/files/live/mounts/images/m...</td>\n",
       "      <td>50 - 60 k€ brut annuel</td>\n",
       "      <td>Notre client, est un éditeur de logiciels SaaS...</td>\n",
       "    </tr>\n",
       "    <tr>\n",
       "      <th>10</th>\n",
       "      <td>QA Engineer - F/H</td>\n",
       "      <td>SEYOS</td>\n",
       "      <td>https://www.apec.fr/files/live/mounts/images/m...</td>\n",
       "      <td>50 - 60 k€ brut annuel</td>\n",
       "      <td>Notre client est un éditeur de logiciel Saas, ...</td>\n",
       "    </tr>\n",
       "    <tr>\n",
       "      <th>11</th>\n",
       "      <td>Devops F/H</td>\n",
       "      <td>WORK HUNTER</td>\n",
       "      <td>https://www.apec.fr/files/live/mounts/images/m...</td>\n",
       "      <td>40 - 70 k€ brut annuel</td>\n",
       "      <td>Créer et gérer l’environnement DevOps pour not...</td>\n",
       "    </tr>\n",
       "    <tr>\n",
       "      <th>12</th>\n",
       "      <td>Chaos Engineer F/H</td>\n",
       "      <td>KLANIK</td>\n",
       "      <td>https://www.apec.fr/files/live/mounts/images/m...</td>\n",
       "      <td>A partir de 35 k€ brut annuel</td>\n",
       "      <td>Vous participez à l'automatisation de l'infras...</td>\n",
       "    </tr>\n",
       "    <tr>\n",
       "      <th>13</th>\n",
       "      <td>IT Infrastructure Engineer F/H</td>\n",
       "      <td>MICHAEL PAGE</td>\n",
       "      <td>https://www.apec.fr/files/live/mounts/images/m...</td>\n",
       "      <td>45 - 55 k€ brut annuel</td>\n",
       "      <td>Vous travaillez au sein de l'équipe d'infrastr...</td>\n",
       "    </tr>\n",
       "    <tr>\n",
       "      <th>14</th>\n",
       "      <td>Développeur infrastructure (Cloud Engineer) F/H</td>\n",
       "      <td>PLATEFORME DES DONNEES DE SANTE</td>\n",
       "      <td>https://www.apec.fr/files/live/mounts/images/m...</td>\n",
       "      <td>A négocier</td>\n",
       "      <td>La direction technique du Health Data Hub est ...</td>\n",
       "    </tr>\n",
       "    <tr>\n",
       "      <th>15</th>\n",
       "      <td>Consultant Systems Architect Engineer – REGION...</td>\n",
       "      <td>CAPGEMINI ENGINEERING</td>\n",
       "      <td>https://www.apec.fr/files/live/mounts/images/m...</td>\n",
       "      <td>A négocier</td>\n",
       "      <td>Pour répondre à l’accroissement de nos équipes...</td>\n",
       "    </tr>\n",
       "    <tr>\n",
       "      <th>16</th>\n",
       "      <td>DevOps Engineer F/H</td>\n",
       "      <td>CLARANET</td>\n",
       "      <td>https://www.apec.fr/files/live/mounts/images/m...</td>\n",
       "      <td>A négocier</td>\n",
       "      <td>Claranet est un acteur majeur des services Clo...</td>\n",
       "    </tr>\n",
       "  </tbody>\n",
       "</table>\n",
       "</div>"
      ],
      "text/plain": [
       "                                            Job_Title  \\\n",
       "0                                       DevSecOps F/H   \n",
       "1                           Software engineer C++ F/H   \n",
       "2                        Ingénieur Intégration C# F/H   \n",
       "3   Ingénieur Validation et Automatisation de Test...   \n",
       "4   Ingénieur infrastructure en gestion de données...   \n",
       "5         Ingénieur Sécurité Senior - Full remote F/H   \n",
       "6                 JR10092330 Test Flight Engineer F/H   \n",
       "7     Software Devops Engineer for MLOps Platform F/H   \n",
       "8                   Hydraulic Design R&D Engineer F/H   \n",
       "9   Senior QA Engineer Test Automation (Éditeur de...   \n",
       "10                                  QA Engineer - F/H   \n",
       "11                                         Devops F/H   \n",
       "12                                 Chaos Engineer F/H   \n",
       "13                     IT Infrastructure Engineer F/H   \n",
       "14    Développeur infrastructure (Cloud Engineer) F/H   \n",
       "15  Consultant Systems Architect Engineer – REGION...   \n",
       "16                                DevOps Engineer F/H   \n",
       "\n",
       "                            Company  \\\n",
       "0                        ELITEGROUP   \n",
       "1                             ENGIT   \n",
       "2                         ALLIGATOR   \n",
       "3                         ALLIGATOR   \n",
       "4                             ESKER   \n",
       "5                        ELITEGROUP   \n",
       "6                            AIRBUS   \n",
       "7                              ATOS   \n",
       "8                              ATOS   \n",
       "9                             SEYOS   \n",
       "10                            SEYOS   \n",
       "11                      WORK HUNTER   \n",
       "12                           KLANIK   \n",
       "13                     MICHAEL PAGE   \n",
       "14  PLATEFORME DES DONNEES DE SANTE   \n",
       "15            CAPGEMINI ENGINEERING   \n",
       "16                         CLARANET   \n",
       "\n",
       "                                     Company Logo URL  \\\n",
       "0   https://www.apec.fr/files/live/mounts/images/m...   \n",
       "1   https://www.apec.fr/files/live/mounts/images/m...   \n",
       "2   https://www.apec.fr/files/live/mounts/images/m...   \n",
       "3   https://www.apec.fr/files/live/mounts/images/m...   \n",
       "4   https://www.apec.fr/files/live/mounts/images/m...   \n",
       "5   https://www.apec.fr/files/live/mounts/images/m...   \n",
       "6   https://www.apec.fr/files/live/mounts/images/m...   \n",
       "7   https://www.apec.fr/files/live/mounts/images/m...   \n",
       "8   https://www.apec.fr/files/live/mounts/images/m...   \n",
       "9   https://www.apec.fr/files/live/mounts/images/m...   \n",
       "10  https://www.apec.fr/files/live/mounts/images/m...   \n",
       "11  https://www.apec.fr/files/live/mounts/images/m...   \n",
       "12  https://www.apec.fr/files/live/mounts/images/m...   \n",
       "13  https://www.apec.fr/files/live/mounts/images/m...   \n",
       "14  https://www.apec.fr/files/live/mounts/images/m...   \n",
       "15  https://www.apec.fr/files/live/mounts/images/m...   \n",
       "16  https://www.apec.fr/files/live/mounts/images/m...   \n",
       "\n",
       "                           Salary  \\\n",
       "0          50 - 70 k€ brut annuel   \n",
       "1   A partir de 37 k€ brut annuel   \n",
       "2                      A négocier   \n",
       "3                      A négocier   \n",
       "4                      A négocier   \n",
       "5          55 - 65 k€ brut annuel   \n",
       "6                      A négocier   \n",
       "7                      A négocier   \n",
       "8                      A négocier   \n",
       "9          50 - 60 k€ brut annuel   \n",
       "10         50 - 60 k€ brut annuel   \n",
       "11         40 - 70 k€ brut annuel   \n",
       "12  A partir de 35 k€ brut annuel   \n",
       "13         45 - 55 k€ brut annuel   \n",
       "14                     A négocier   \n",
       "15                     A négocier   \n",
       "16                     A négocier   \n",
       "\n",
       "                                      Job_Description  \n",
       "0   Créez des outils pour aider les PME à lutter c...  \n",
       "1   engIT est une société d’ingénierie dédiée à l’...  \n",
       "2   Mission Vous développerez, maintiendrez et enr...  \n",
       "3   Mission Vous développerez, maintiendrez et enr...  \n",
       "4   Envie de vous confronter à des défis d’infrast...  \n",
       "5   Département Innovation (80 tech) Votre équipe ...  \n",
       "6   Un poste d'ingénieur de vol d'essai (h/f) est ...  \n",
       "7   L’équipe BDSW de la R&D HPC & AI Software déve...  \n",
       "8   Nous recrutons un(e) Ingénieur(e) Conception R...  \n",
       "9   Notre client, est un éditeur de logiciels SaaS...  \n",
       "10  Notre client est un éditeur de logiciel Saas, ...  \n",
       "11  Créer et gérer l’environnement DevOps pour not...  \n",
       "12  Vous participez à l'automatisation de l'infras...  \n",
       "13  Vous travaillez au sein de l'équipe d'infrastr...  \n",
       "14  La direction technique du Health Data Hub est ...  \n",
       "15  Pour répondre à l’accroissement de nos équipes...  \n",
       "16  Claranet est un acteur majeur des services Clo...  "
      ]
     },
     "execution_count": 680,
     "metadata": {},
     "output_type": "execute_result"
    }
   ],
   "source": [
    "job_details(apec_url_page14)"
   ]
  },
  {
   "cell_type": "code",
   "execution_count": 677,
   "id": "063f6afc",
   "metadata": {},
   "outputs": [
    {
     "data": {
      "text/plain": [
       "'https://www.apec.fr/candidat/recherche-emploi.html/emploi?motsCles=data%20engineer&page=1'"
      ]
     },
     "execution_count": 677,
     "metadata": {},
     "output_type": "execute_result"
    }
   ],
   "source": [
    "apec_url_page2"
   ]
  },
  {
   "cell_type": "code",
   "execution_count": null,
   "id": "8ff61dc4",
   "metadata": {},
   "outputs": [],
   "source": []
  }
 ],
 "metadata": {
  "kernelspec": {
   "display_name": "Python 3 (ipykernel)",
   "language": "python",
   "name": "python3"
  },
  "language_info": {
   "codemirror_mode": {
    "name": "ipython",
    "version": 3
   },
   "file_extension": ".py",
   "mimetype": "text/x-python",
   "name": "python",
   "nbconvert_exporter": "python",
   "pygments_lexer": "ipython3",
   "version": "3.7.10"
  }
 },
 "nbformat": 4,
 "nbformat_minor": 5
}
